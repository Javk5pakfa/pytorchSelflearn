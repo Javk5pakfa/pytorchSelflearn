{
 "cells": [
  {
   "metadata": {},
   "cell_type": "markdown",
   "source": "Import modules",
   "id": "5f0ca09ad34c8bc3"
  },
  {
   "metadata": {
    "ExecuteTime": {
     "end_time": "2024-07-24T20:16:24.031355Z",
     "start_time": "2024-07-24T20:16:21.043769Z"
    }
   },
   "cell_type": "code",
   "source": [
    "from basic_FFN import get_batch_datasets\n",
    "from json import load\n",
    "import torch\n",
    "import torch.nn as nn\n",
    "import torch.optim as optim\n",
    "import math\n",
    "import numpy as np\n",
    "import matplotlib.pyplot as plt"
   ],
   "id": "5e460f964e7af91b",
   "outputs": [],
   "execution_count": 1
  },
  {
   "metadata": {},
   "cell_type": "markdown",
   "source": "Load some data",
   "id": "909e3fe3ff736ed7"
  },
  {
   "metadata": {
    "ExecuteTime": {
     "end_time": "2024-07-24T20:17:54.930727Z",
     "start_time": "2024-07-24T20:17:53.753621Z"
    }
   },
   "cell_type": "code",
   "source": [
    "# Get raw datasets.\n",
    "train_ds = get_batch_datasets(0,\n",
    "                              800,\n",
    "                        \"agn_{}_synthetic.csv\",\n",
    "                        \"/Users/jackhu/PycharmProjects/pytorchSelflearn/data/agn_synthetic\")\n",
    "validate_ds = get_batch_datasets(800,\n",
    "                                 899,\n",
    "                             \"agn_{}_synthetic.csv\",\n",
    "                             \"/Users/jackhu/PycharmProjects/pytorchSelflearn/data/validate\")\n",
    "\n",
    "with open(\"/Users/jackhu/PycharmProjects/pytorchSelflearn/dataTransformer/trial_configs.json\", 'r') as f:\n",
    "    options = load(f)\n",
    "\n",
    "# Initialize transformer object, make dataset list a Tensor.\n",
    "train_ds_tensor = torch.Tensor(np.array(train_ds)).requires_grad_(True)\n",
    "valid_ds_tensor = torch.Tensor(np.array(validate_ds)).requires_grad_(True)"
   ],
   "id": "994c2b2d7509e7d6",
   "outputs": [
    {
     "name": "stderr",
     "output_type": "stream",
     "text": [
      "Getting Datasets from /Users/jackhu/PycharmProjects/pytorchSelflearn/data/agn_synthetic: 100%|██████████| 800/800 [00:01<00:00, 792.74it/s]\n",
      "Getting Datasets from /Users/jackhu/PycharmProjects/pytorchSelflearn/data/validate: 100%|██████████| 99/99 [00:00<00:00, 717.37it/s]\n"
     ]
    }
   ],
   "execution_count": 4
  },
  {
   "metadata": {},
   "cell_type": "markdown",
   "source": "Positional Encoder",
   "id": "5930649f36db7bc8"
  },
  {
   "metadata": {
    "ExecuteTime": {
     "end_time": "2024-07-24T20:17:24.425704Z",
     "start_time": "2024-07-24T20:16:35.907191Z"
    }
   },
   "cell_type": "code",
   "source": [
    "class PositionalEncoding(nn.Module):\n",
    "    \"\"\"\n",
    "    Positional Encoding Module\n",
    "    \"\"\"\n",
    "\n",
    "    def __init__(self, d_model, max_len=5000):\n",
    "        \"\"\"\n",
    "        \n",
    "        :param d_model: dimension of embedding.\n",
    "        :param max_len: maximum length of input sequence.\n",
    "        \"\"\"\n",
    "        super(PositionalEncoding, self).__init__()       \n",
    "        pe = torch.zeros(max_len, d_model)\n",
    "        position = torch.arange(0, max_len, dtype=torch.float).unsqueeze(1)\n",
    "        div_term = torch.exp(torch.arange(0, d_model, 2).float() * (-math.log(10000.0) / d_model))\n",
    "        pe[:, 0::2] = torch.sin(position * div_term)\n",
    "        pe[:, 1::2] = torch.cos(position * div_term)\n",
    "        pe = pe.unsqueeze(0).transpose(0, 1)\n",
    "        self.register_buffer('pe', pe)\n",
    "\n",
    "    def forward(self, x):\n",
    "        return x + self.pe[:x.size(0), :]"
   ],
   "id": "5a671be350e9fc48",
   "outputs": [],
   "execution_count": 2
  },
  {
   "metadata": {
    "ExecuteTime": {
     "end_time": "2024-07-24T20:17:46.878219Z",
     "start_time": "2024-07-24T20:17:46.874774Z"
    }
   },
   "cell_type": "code",
   "source": "test_pe = PositionalEncoding(32, max_len=100)",
   "id": "c104e9f7a7fec194",
   "outputs": [],
   "execution_count": 3
  },
  {
   "metadata": {
    "ExecuteTime": {
     "end_time": "2024-07-24T20:17:58.193620Z",
     "start_time": "2024-07-24T20:17:58.190426Z"
    }
   },
   "cell_type": "code",
   "source": "test_tensor = train_ds_tensor[0, 1, ...]",
   "id": "d62e1f33d3d14d97",
   "outputs": [],
   "execution_count": 5
  }
 ],
 "metadata": {
  "kernelspec": {
   "display_name": "Python 3",
   "language": "python",
   "name": "python3"
  },
  "language_info": {
   "codemirror_mode": {
    "name": "ipython",
    "version": 2
   },
   "file_extension": ".py",
   "mimetype": "text/x-python",
   "name": "python",
   "nbconvert_exporter": "python",
   "pygments_lexer": "ipython2",
   "version": "2.7.6"
  }
 },
 "nbformat": 4,
 "nbformat_minor": 5
}
